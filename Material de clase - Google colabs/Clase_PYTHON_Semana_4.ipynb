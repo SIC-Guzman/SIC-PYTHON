{
  "nbformat": 4,
  "nbformat_minor": 0,
  "metadata": {
    "colab": {
      "provenance": []
    },
    "kernelspec": {
      "name": "python3",
      "display_name": "Python 3"
    },
    "language_info": {
      "name": "python"
    }
  },
  "cells": [
    {
      "cell_type": "markdown",
      "source": [
        "#**TIPOS DE ORDENAMIENTO**"
      ],
      "metadata": {
        "id": "9xyVfqo9gtsl"
      }
    },
    {
      "cell_type": "markdown",
      "source": [
        "##**ORDENAMIENTO POR BURBUJA:**"
      ],
      "metadata": {
        "id": "flQcLKZxiRX8"
      }
    },
    {
      "cell_type": "markdown",
      "source": [
        "El ordenamiento por burbuja es un algoritmo de ordenación sencillo que compara pares adyacentes en una lista y los intercambia si están en el orden incorrecto. Repite ese proceso múltiples veces hasta que la lista queda ordenada.\n",
        "\n",
        "Se llama “burbujear” porque los elementos más grandes (o pequeños, según la variante) van “subiendo” hacia un extremo, como burbujas en un líquido."
      ],
      "metadata": {
        "id": "fg0Q1FRTiPAl"
      }
    },
    {
      "cell_type": "markdown",
      "source": [
        "**EJEMPLO:**\n",
        "\n",
        "Vamos a ordenar el arreglo:\n",
        "[5, 1, 4, 2, 8] con el algoritmo burbuja (orden ascendente).\n",
        "\n",
        "Regla: comparar elementos adyacentes y si el de la izquierda es mayor que el de la derecha, se intercambian."
      ],
      "metadata": {
        "id": "MxzirS2TkrMV"
      }
    },
    {
      "cell_type": "markdown",
      "source": [
        "**PSEUDOGODIGO:**"
      ],
      "metadata": {
        "id": "HkXQQXzhvMOE"
      }
    },
    {
      "cell_type": "code",
      "source": [
        "procedimiento burbuja(A) # A seria la lista\n",
        "  n = longitud(A)\n",
        "  para i = 0 hasta n-2 hacer\n",
        "    intercambio = falso\n",
        "    para j = 0 hasta n-2-i hacer\n",
        "      si A[j] > A[j+1] entonces\n",
        "        intercambiar A[j] con A[j+1]\n",
        "        intercambio = verdadero\n",
        "      fin si\n",
        "    fin para\n",
        "    si intercambio = falso entonces\n",
        "      salir   // la lista ya está ordenada\n",
        "    fin si\n",
        "  fin para\n",
        "fin procedimiento"
      ],
      "metadata": {
        "id": "iWNSuEilk3PP"
      },
      "execution_count": null,
      "outputs": []
    },
    {
      "cell_type": "markdown",
      "source": [
        "**CODIGO:**"
      ],
      "metadata": {
        "id": "CC_3uMrqvLBz"
      }
    },
    {
      "cell_type": "code",
      "execution_count": null,
      "metadata": {
        "id": "70_IRG6qgojs"
      },
      "outputs": [],
      "source": [
        "def ordenamiento_burbuja(lista):\n",
        "    # Guardamos la longitud de la lista\n",
        "    longitud = len(lista)\n",
        "\n",
        "    # Recorremos la lista varias veces (n-1 pasadas)\n",
        "    for i in range(longitud - 1):\n",
        "        # Marcamos una bandera para saber si hubo intercambios en esta pasada\n",
        "        hubo_intercambio = False\n",
        "\n",
        "        # Recorremos los elementos hasta la parte no ordenada\n",
        "        for j in range(longitud - 1 - i):\n",
        "            # Comparamos elementos adyacentes\n",
        "            if lista[j] > lista[j + 1]:\n",
        "                # Si están en el orden incorrecto, los intercambiamos\n",
        "                lista[j], lista[j + 1] = lista[j + 1], lista[j]\n",
        "                # Indicamos que sí hubo un intercambio\n",
        "                hubo_intercambio = True\n",
        "\n",
        "        # Si en toda la pasada no hubo intercambios, la lista ya está ordenada\n",
        "        if not hubo_intercambio:\n",
        "            break\n",
        "\n",
        "    # Devolvemos la lista ya ordenada\n",
        "    return lista\n",
        "\n",
        "# Ejecutamos\n",
        "lista = [5, 1, 4, 2, 8]\n",
        "print(ordenamiento_burbuja(lista))"
      ]
    },
    {
      "cell_type": "markdown",
      "source": [
        "\n",
        "\n",
        "---\n",
        "\n"
      ],
      "metadata": {
        "id": "5sw_qcGl5BSU"
      }
    },
    {
      "cell_type": "code",
      "source": [
        "def burbuja(lista):\n",
        "    n = len(lista)\n",
        "    for i in range(n):\n",
        "        for j in range(0, n-i-1):\n",
        "            if lista[j] > lista[j+1]:\n",
        "                lista[j], lista[j+1] = lista[j+1], lista[j]\n",
        "    return lista\n",
        "\n",
        "lista = [5, 2, 9, 1, 5]\n",
        "print(\"Burbuja:\", burbuja(lista.copy()))"
      ],
      "metadata": {
        "id": "l3v2zCuT5CcV"
      },
      "execution_count": null,
      "outputs": []
    },
    {
      "cell_type": "code",
      "source": [
        "lista = ['d', 'a', 'c', 'b']\n",
        "print(\"Burbuja letras:\", burbuja(lista.copy()))"
      ],
      "metadata": {
        "id": "sCUWPsMS5E00"
      },
      "execution_count": null,
      "outputs": []
    },
    {
      "cell_type": "markdown",
      "source": [
        "##**ORDENAMIENTO POR SELECCION**"
      ],
      "metadata": {
        "id": "MLK1fqk3uPs_"
      }
    },
    {
      "cell_type": "markdown",
      "source": [
        "El ordenamiento por selección es un algoritmo sencillo que funciona de la siguiente manera:\n",
        "\n",
        "1. Busca el menor elemento de la lista.\n",
        "\n",
        "2. Lo coloca en la primera posición de la lista.\n",
        "\n",
        "3. Luego busca el segundo menor elemento y lo coloca en la segunda posición.\n",
        "\n",
        "4. Se repite este proceso hasta que todos los elementos estén ordenados.\n",
        "\n",
        "> A diferencia de burbuja, en selección el número de intercambios es menor, porque solo intercambia una vez por cada pasada, aunque hace muchas comparaciones."
      ],
      "metadata": {
        "id": "82nHz9T2uTcB"
      }
    },
    {
      "cell_type": "markdown",
      "source": [
        "**PSEUDOCODIGO:**"
      ],
      "metadata": {
        "id": "a_kVTuWDu7qo"
      }
    },
    {
      "cell_type": "code",
      "source": [
        "procedimiento seleccion(A)\n",
        "  n = longitud(A)\n",
        "  para i = 0 hasta n-2 hacer\n",
        "    indice_minimo = i\n",
        "    para j = i+1 hasta n-1 hacer\n",
        "      si A[j] < A[indice_minimo] entonces\n",
        "        indice_minimo = j\n",
        "      fin si\n",
        "    fin para\n",
        "    si indice_minimo != i entonces\n",
        "      intercambiar A[i] con A[indice_minimo]\n",
        "    fin si\n",
        "  fin para\n",
        "fin procedimiento\n"
      ],
      "metadata": {
        "id": "Bs0vU08-u9ax"
      },
      "execution_count": null,
      "outputs": []
    },
    {
      "cell_type": "markdown",
      "source": [
        "**CODIGO:**"
      ],
      "metadata": {
        "id": "ppNHmEwwu-Dt"
      }
    },
    {
      "cell_type": "code",
      "source": [
        "def ordenamiento_seleccion(lista):\n",
        "    n = len(lista)\n",
        "    # Recorremos toda la lista\n",
        "    for i in range(n - 1):\n",
        "        # Suponemos que el elemento actual es el mínimo\n",
        "        indice_minimo = i\n",
        "        # Buscamos un valor más pequeño en el resto de la lista\n",
        "        for j in range(i + 1, n):\n",
        "            if lista[j] < lista[indice_minimo]:\n",
        "                indice_minimo = j\n",
        "        # Si encontramos un nuevo mínimo, lo intercambiamos\n",
        "        if indice_minimo != i:\n",
        "            lista[i] = lista[indice_minimo]\n",
        "            lista[indice_minimo] = lista[i]\n",
        "    return lista\n",
        "\n",
        "# Ejemplo\n",
        "lista = [50, 30, 40, 10, 20]\n",
        "print(ordenamiento_seleccion(lista))\n"
      ],
      "metadata": {
        "id": "DI0hLMmhu_OR"
      },
      "execution_count": null,
      "outputs": []
    },
    {
      "cell_type": "markdown",
      "source": [
        "\n",
        "\n",
        "---\n",
        "\n"
      ],
      "metadata": {
        "id": "x-L-kDj15Kga"
      }
    },
    {
      "cell_type": "code",
      "source": [
        "def seleccion(lista):\n",
        "    n = len(lista)\n",
        "    for i in range(n):\n",
        "        min_idx = i\n",
        "        for j in range(i+1, n):\n",
        "            if lista[j] < lista[min_idx]:\n",
        "                min_idx = j\n",
        "        lista[i], lista[min_idx] = lista[min_idx], lista[i]\n",
        "    return lista\n",
        "\n",
        "lista = [64, 25, 12, 22, 11]\n",
        "print(\"Selección:\", seleccion(lista.copy()))\n"
      ],
      "metadata": {
        "id": "TqrfC8kz5L1u"
      },
      "execution_count": null,
      "outputs": []
    },
    {
      "cell_type": "code",
      "source": [
        "lista = ['d', 'f', 'a', 'c']\n",
        "print(\"Selección letras:\", seleccion(lista.copy()))\n"
      ],
      "metadata": {
        "id": "j49TslZo5NwN"
      },
      "execution_count": null,
      "outputs": []
    },
    {
      "cell_type": "markdown",
      "source": [
        "##**ORDENAMIENTO POR INSERCION**"
      ],
      "metadata": {
        "id": "oJRtOwDAxwFf"
      }
    },
    {
      "cell_type": "markdown",
      "source": [
        "El ordenamiento por inserción es un algoritmo de ordenamiento que añade elementos de una lista no ordenada a la lista ordenada uno a uno.\n",
        "\n",
        "Para ello, utiliza una estrategia para encontrar la posición a añadir comparando el elemento a anadir con el resto de la lista ordenada secuencialmente."
      ],
      "metadata": {
        "id": "ZDGYO6dEx2VH"
      }
    },
    {
      "cell_type": "markdown",
      "source": [
        "El ordenamiento por inserción funciona como cuando ordenamos las cartas en la mano:\n",
        "\n",
        "1. Tomamos una carta de la baraja (un elemento de la lista).\n",
        "\n",
        "2. La comparamos con las que ya tenemos ordenadas en la mano.\n",
        "\n",
        "3. La insertamos en el lugar correcto para mantener el orden.\n",
        "\n",
        "**¿Cuál es su utilidad?**\n",
        "\n",
        "* Muy eficiente en listas pequeñas o casi ordenadas.\n",
        "\n",
        "* Fácil de implementar.\n",
        "\n",
        "* Es estable (mantiene el orden de elementos iguales).\n",
        "\n",
        "* Se usa como parte de algoritmos más avanzados (ejemplo: Timsort, que es el que usa Python)."
      ],
      "metadata": {
        "id": "7eYXYF8UyE5G"
      }
    },
    {
      "cell_type": "markdown",
      "source": [
        "**EJEMPLO PASO A PASO:**"
      ],
      "metadata": {
        "id": "r-AmF8lHyhcS"
      }
    },
    {
      "cell_type": "markdown",
      "source": [
        "Ejemplo paso a paso con la lista\n",
        "\n",
        "[50, 30, 40, 10, 20]\n",
        "\n",
        "\n",
        "**Paso 1**\n",
        "\n",
        "1. Empezamos con el primer elemento (50).\n",
        "\n",
        "2. [50] ya está ordenado porque es solo uno.\n",
        "\n",
        "**Paso 2**\n",
        "\n",
        "1. Tomamos el siguiente elemento (30).\n",
        "\n",
        "2. Comparamos con 50 → 30 < 50, lo colocamos antes.\n",
        "\n",
        "Lista: [30, 50, 40, 10, 20]\n",
        "\n",
        "**Paso 3**\n",
        "\n",
        "1. Tomamos el siguiente elemento (40).\n",
        "\n",
        "2. Comparamos con 50 → 40 < 50, mover 50 a la derecha.\n",
        "\n",
        "3. Comparamos con 30 → 40 > 30, lo colocamos después de 30.\n",
        "\n",
        "Lista: [30, 40, 50, 10, 20]\n",
        "\n",
        "**Paso 4**\n",
        "\n",
        "1. Tomamos el siguiente elemento (10).\n",
        "\n",
        "2. Comparamos con 50, 40, 30 → 10 es menor que todos, lo insertamos al inicio.\n",
        "\n",
        "Lista: [10, 30, 40, 50, 20]\n",
        "\n",
        "**Paso 5**\n",
        "\n",
        "1. Tomamos el último elemento (20).\n",
        "\n",
        "2. Comparamos con 50 → mover a la derecha.\n",
        "\n",
        "3. Comparamos con 40 → mover a la derecha.\n",
        "\n",
        "4. Comparamos con 30 → 20 < 30, colocamos antes.\n",
        "\n",
        "Lista final: [10, 20, 30, 40, 50]\n",
        "\n",
        "✅ ¡Ya está ordenada!"
      ],
      "metadata": {
        "id": "IgJhfmC9yi2U"
      }
    },
    {
      "cell_type": "markdown",
      "source": [
        "**PSEUDOCODIGO:**"
      ],
      "metadata": {
        "id": "Ws3h0CfK0JkS"
      }
    },
    {
      "cell_type": "code",
      "source": [
        "procedimiento insercion(A)\n",
        "  n = longitud(A)\n",
        "  para i = 1 hasta n-1 hacer\n",
        "    clave = A[i]\n",
        "    j = i - 1\n",
        "    mientras j >= 0 y A[j] > clave hacer\n",
        "      A[j+1] = A[j]\n",
        "      j = j - 1\n",
        "    fin mientras\n",
        "    A[j+1] = clave\n",
        "  fin para\n",
        "fin procedimiento"
      ],
      "metadata": {
        "id": "JnflwPBO0Lln"
      },
      "execution_count": null,
      "outputs": []
    },
    {
      "cell_type": "markdown",
      "source": [
        "**CODIGO:**"
      ],
      "metadata": {
        "id": "LNHRJUmk0OCa"
      }
    },
    {
      "cell_type": "code",
      "source": [
        "def ordenamiento_insercion(lista):\n",
        "    n = len(lista)\n",
        "    # Recorremos desde el segundo elemento\n",
        "    for i in range(1, n):\n",
        "        clave = lista[i]  # Elemento que queremos insertar\n",
        "        j = i - 1\n",
        "        # Movemos los elementos mayores que \"clave\" una posición a la derecha\n",
        "        while j >= 0 and lista[j] > clave:\n",
        "            lista[j + 1] = lista[j]\n",
        "            j -= 1\n",
        "        # Insertamos la clave en la posición correcta\n",
        "        lista[j + 1] = clave\n",
        "    return lista\n",
        "\n",
        "# Ejemplo\n",
        "lista = [50, 30, 40, 10, 20]\n",
        "print(ordenamiento_insercion(lista))\n"
      ],
      "metadata": {
        "id": "Pn3qdiaZ0Ov0"
      },
      "execution_count": null,
      "outputs": []
    },
    {
      "cell_type": "markdown",
      "source": [
        "\n",
        "\n",
        "---\n",
        "\n"
      ],
      "metadata": {
        "id": "BuVehwm65Pmd"
      }
    },
    {
      "cell_type": "code",
      "source": [
        "def insercion(lista):\n",
        "    for i in range(1, len(lista)):\n",
        "        key = lista[i]\n",
        "        j = i - 1\n",
        "        while j >= 0 and lista[j] > key:\n",
        "            lista[j+1] = lista[j]\n",
        "            j -= 1\n",
        "        lista[j+1] = key\n",
        "    return lista\n",
        "\n",
        "lista = [12, 11, 13, 5, 6]\n",
        "print(\"Inserción:\", insercion(lista.copy()))\n"
      ],
      "metadata": {
        "id": "vRTkCSOf5QLc"
      },
      "execution_count": null,
      "outputs": []
    },
    {
      "cell_type": "code",
      "source": [
        "lista = ['z', 'a', 'm', 'b']\n",
        "print(\"Inserción letras:\", insercion(lista.copy()))\n"
      ],
      "metadata": {
        "id": "qz5cLAm25UZz"
      },
      "execution_count": null,
      "outputs": []
    },
    {
      "cell_type": "markdown",
      "source": [
        "##**ORDENAMIENTO POR FUSION (MERGE SORT)**"
      ],
      "metadata": {
        "id": "qy_SGjUz0bGv"
      }
    },
    {
      "cell_type": "markdown",
      "source": [
        "Es un algoritmo de divide y vencerás.\n",
        "\n",
        "La idea es dividir recursivamente la lista en mitades hasta que cada sublista tenga un solo elemento (que ya está ordenado por sí mismo).\n",
        "\n",
        "Luego, se van fusionando esas sublistas pequeñas en listas más grandes manteniendo el orden."
      ],
      "metadata": {
        "id": "Se1mhM1t0p9G"
      }
    },
    {
      "cell_type": "markdown",
      "source": [
        "**EJEMPLO PASO A PASO DESCRITO**\n",
        "\n",
        "Supongamos que queremos ordenar la lista:\n",
        "\n",
        "**[38, 27, 43, 3, 9, 82, 10]**\n",
        "\n",
        "---\n",
        "\n",
        "Dividimos en mitades: [38, 27, 43] y [3, 9, 82, 10]\n",
        "\n",
        "---\n",
        "\n",
        "Seguimos dividiendo: [38] [27, 43] y [3, 9] [82, 10]\n",
        "\n",
        "---\n",
        "\n",
        "Más divisiones hasta llegar a elementos individuales:\n",
        "[38] [27] [43] [3] [9] [82] [10]\n",
        "\n",
        "---\n",
        "\n",
        "Fusionamos comparando en orden:\n",
        "\n",
        "[27, 43] → [27, 38, 43]\n",
        "\n",
        "[3, 9] → [3, 9]\n",
        "\n",
        "[10, 82] → [10, 82]\n",
        "\n",
        "---\n",
        "\n",
        "Fusionamos más grande:\n",
        "[27, 38, 43] con [3, 9, 10, 82] → [3, 9, 10, 27, 38, 43, 82]\n",
        "\n",
        "---\n",
        "\n",
        "✅ Resultado final: lista ordenada."
      ],
      "metadata": {
        "id": "WBBD0k1K0unt"
      }
    },
    {
      "cell_type": "markdown",
      "source": [
        "**CODIGO:**"
      ],
      "metadata": {
        "id": "v397GZeq12H3"
      }
    },
    {
      "cell_type": "code",
      "source": [
        "def merge_sort(lista):  # Define la función merge_sort que recibe una lista y devuelve una lista ordenada.\n",
        "    if len(lista) <= 1:   # Caso base: si la lista tiene 0 o 1 elemento ya está ordenada, por eso devolvemos la misma lista tal cual.\n",
        "        return lista\n",
        "\n",
        "    medio = len(lista) // 2  # Calcula el índice medio de la lista usando división entera. Se usa para partir la lista en dos mitades.\n",
        "\n",
        "    izquierda = merge_sort(lista[:medio])  # Llama recursivamente a merge_sort sobre la porción izquierda (desde 0 hasta medio-1)\n",
        "\n",
        "    derecha = merge_sort(lista[medio:])\n",
        "    # Llama recursivamente a merge_sort sobre la porción derecha (desde medio hasta el final).\n",
        "    # Después de ambas llamadas, 'izquierda' y 'derecha' están ordenadas individualmente.\n",
        "\n",
        "    return fusionar(izquierda, derecha)\n",
        "    # Mezcla (merge) las dos sublistas ordenadas y devuelve la lista totalmente ordenada.\n",
        "\n",
        "\n",
        "def fusionar(izq, der):  # Definimos la función auxiliar que fusiona dos listas ordenadas en una sola lista ordenada.\n",
        "    resultado = [] # Lista vacía donde iremos acumulando el resultado ordenado.\n",
        "\n",
        "    i = j = 0  # Se inicializan índices para recorrer 'izq' (i) y 'der' (j).\n",
        "\n",
        "    while i < len(izq) and j < len(der):    # Mientras ambos índices no hayan llegado al final de sus respectivas listas:\n",
        "        if izq[i] < der[j]:\n",
        "            resultado.append(izq[i]) # añadimos el elemento de la izquierda al resultado...\n",
        "            i += 1  # y avanzamos el índice 'i' en la lista izquierda.\n",
        "        else:\n",
        "            resultado.append(der[j]) # añadimos el elemento de la derecha al resultado...\n",
        "            j += 1  # y avanzamos el índice 'j' en la lista derecha.\n",
        "\n",
        "    resultado.extend(izq[i:])\n",
        "    # Si se terminó la lista 'der' pero quedan elementos en 'izq', los agregamos todos al final de 'resultado'. extend añade todos los elementos de la sublista.\n",
        "\n",
        "    resultado.extend(der[j:])\n",
        "    # Si se terminó la lista 'izq' pero quedan elementos en 'der', los agregamos todos al final de 'resultado'.\n",
        "\n",
        "    return resultado\n",
        "\n",
        "\n",
        "print(merge_sort([38, 27, 43, 3, 9, 82, 10]))"
      ],
      "metadata": {
        "id": "Ieh3up_j10lg"
      },
      "execution_count": null,
      "outputs": []
    },
    {
      "cell_type": "markdown",
      "source": [
        "\n",
        "\n",
        "---\n",
        "\n"
      ],
      "metadata": {
        "id": "aIklcw7K5ZjN"
      }
    },
    {
      "cell_type": "code",
      "source": [
        "def merge_sort(lista):\n",
        "    if len(lista) > 1:  # Verifica si la lista tiene más de un elemento; si no, ya está ordenada\n",
        "\n",
        "        mid = len(lista)//2  # Calcula el índice medio para dividir la lista\n",
        "\n",
        "        L = lista[:mid]  # Crea la sublista izquierda con los elementos hasta mid (sin incluir mid)\n",
        "\n",
        "        R = lista[mid:]  # Crea la sublista derecha con los elementos desde mid hasta el final\n",
        "\n",
        "        merge_sort(L)  # Llama recursivamente merge_sort para ordenar la sublista izquierda\n",
        "        merge_sort(R)  # Llama recursivamente merge_sort para ordenar la sublista derecha\n",
        "        i = j = k = 0  # Inicializa índices para recorrer\n",
        "        while i < len(L) and j < len(R):\n",
        "            if L[i] < R[j]:\n",
        "                lista[k] = L[i]  # Si L[i] es menor, lo coloca en la posición k de la lista original\n",
        "                i += 1  # Avanza al siguiente elemento de L\n",
        "            else:\n",
        "                lista[k] = R[j]  # Si R[j] es menor o igual, lo coloca en la posición k\n",
        "                j += 1  # Avanza al siguiente elemento de R\n",
        "            k += 1  # Avanza al siguiente índice de la lista original\n",
        "        while i < len(L):\n",
        "            lista[k] = L[i]  # Los copia a la lista original\n",
        "            i += 1  # Avanza en L\n",
        "            k += 1  # Avanza en la lista original\n",
        "        while j < len(R):\n",
        "            lista[k] = R[j]  # Los copia a la lista original\n",
        "            j += 1  # Avanza en R\n",
        "            k += 1  # Avanza en la lista original\n",
        "    return lista\n",
        "\n",
        "lista = [38, 27, 43, 3, 9, 82, 10]\n",
        "print(\"Merge Sort:\", merge_sort(lista.copy()))\n"
      ],
      "metadata": {
        "id": "s1c-63xG5aJw"
      },
      "execution_count": null,
      "outputs": []
    },
    {
      "cell_type": "code",
      "source": [
        "lista = ['d', 'a', 'c', 'b']\n",
        "print(\"Merge Sort letras:\", merge_sort(lista.copy()))"
      ],
      "metadata": {
        "id": "xE-PQCos55k5"
      },
      "execution_count": null,
      "outputs": []
    },
    {
      "cell_type": "markdown",
      "source": [
        "##**ORDENAMIENTO RAPIDO (QUICK SORT)**"
      ],
      "metadata": {
        "id": "BEkk2Drz0YY9"
      }
    },
    {
      "cell_type": "markdown",
      "source": [
        "También es divide y vencerás.\n",
        "\n",
        "1. Se elige un pivote (puede ser el primero, último o uno aleatorio).\n",
        "\n",
        "2. Se particiona la lista en dos:\n",
        "\n",
        "    * Los elementos menores al pivote.\n",
        "\n",
        "    * Los elementos mayores al pivote.\n",
        "\n",
        "3. Luego se aplica recursivamente Quick Sort a cada partición."
      ],
      "metadata": {
        "id": "dWPtRLfB1Jmf"
      }
    },
    {
      "cell_type": "markdown",
      "source": [
        "**EJEMPLO DESCRITO**\n",
        "\n",
        "Lista: [10, 7, 8, 9, 1, 5]\n",
        "\n",
        "Elegimos pivote (digamos último = 5).\n",
        "\n",
        "* Particionamos: [1] [5] [10, 7, 8, 9]\n",
        "\n",
        "Repetimos en las particiones:\n",
        "\n",
        "* Para [10, 7, 8, 9], pivote = 9 → [7, 8] [9] [10]\n",
        "\n",
        "\n",
        "* Para [7, 8], pivote = 8 → [7] [8]\n",
        "\n",
        ".\n",
        "\n",
        "Lista ordenada final: [1, 5, 7, 8, 9, 10]."
      ],
      "metadata": {
        "id": "A-kUwOnO1dwv"
      }
    },
    {
      "cell_type": "markdown",
      "source": [
        "**CODIGO:**"
      ],
      "metadata": {
        "id": "1_yq92gD1rR_"
      }
    },
    {
      "cell_type": "code",
      "source": [
        "def quick_sort(lista):\n",
        "    # Define la función quick_sort que recibe una lista y devuelve la lista ordenada.\n",
        "\n",
        "    if len(lista) <= 1:\n",
        "        # Caso base: si la lista tiene 0 o 1 elemento ya está ordenada.\n",
        "        return lista\n",
        "\n",
        "    pivote = lista[-1]  # último elemento como pivote. Elegimos el último elemento de la lista como \"pivote\" para dividir la lista.\n",
        "\n",
        "    menores = [x for x in lista[:-1] if x <= pivote]\n",
        "    # Crea una lista con todos los elementos de la lista original (menos el pivote) que son menores o iguales al pivote.\n",
        "\n",
        "    mayores = [x for x in lista[:-1] if x > pivote]\n",
        "    # Crea una lista con todos los elementos de la lista original (menos el pivote)\n",
        "\n",
        "    return quick_sort(menores) + [pivote] + quick_sort(mayores)\n",
        "    # Llama recursivamente a quick_sort sobre la lista de menores y sobre la lista de mayores,\n",
        "    # y luego concatena: lista ordenada de menores + pivote + lista ordenada de mayores. Esto devuelve la lista completamente ordenada.\n",
        "\n",
        "\n",
        "print(quick_sort([10, 7, 8, 9, 1, 5]))\n"
      ],
      "metadata": {
        "id": "YudZPmOR2TYY"
      },
      "execution_count": null,
      "outputs": []
    },
    {
      "cell_type": "markdown",
      "source": [
        "---"
      ],
      "metadata": {
        "id": "f5ouN12j560Z"
      }
    },
    {
      "cell_type": "code",
      "source": [
        "def quick_sort(lista):\n",
        "    if len(lista) <= 1:  # Si la lista tiene 0 o 1 elemento, ya está ordenada\n",
        "        return lista\n",
        "    pivote = lista[-1]  # Selecciona el último elemento como pivote\n",
        "    # Crea una lista con todos los elementos menores o iguales al pivote\n",
        "    menores = [x for x in lista[:-1] if x <= pivote]\n",
        "    # Crea una lista con todos los elementos mayores al pivote\n",
        "    mayores = [x for x in lista[:-1] if x > pivote]\n",
        "    # Ordena recursivamente las listas de menores y mayores, y concatena con el pivote en medio\n",
        "    return quick_sort(menores) + [pivote] + quick_sort(mayores)\n",
        "\n",
        "lista = [10, 7, 8, 9, 1, 5]\n",
        "print(\"Quick Sort:\", quick_sort(lista.copy()))\n"
      ],
      "metadata": {
        "id": "7xqgrYKZ57dn"
      },
      "execution_count": null,
      "outputs": []
    },
    {
      "cell_type": "code",
      "source": [
        "lista = ['x', 'm', 'a', 'b']\n",
        "print(\"Quick Sort letras:\", quick_sort(lista.copy()))\n"
      ],
      "metadata": {
        "id": "jXec13Eh6E24"
      },
      "execution_count": null,
      "outputs": []
    }
  ]
}