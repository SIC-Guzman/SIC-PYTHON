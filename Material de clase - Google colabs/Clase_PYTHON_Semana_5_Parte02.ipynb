{
  "nbformat": 4,
  "nbformat_minor": 0,
  "metadata": {
    "colab": {
      "provenance": [],
      "collapsed_sections": [
        "UjCAE_eNItFr",
        "kt2EyFc8KRGK",
        "0j9RzsY8TIDA",
        "Re5ROCTxBv5N",
        "yISBqzN-oBMO",
        "XstIgpgk-3rR"
      ]
    },
    "kernelspec": {
      "name": "python3",
      "display_name": "Python 3"
    },
    "language_info": {
      "name": "python"
    }
  },
  "cells": [
    {
      "cell_type": "markdown",
      "source": [
        "#**Tratamiento de datos, estadística descriptiva y visualización de datos**"
      ],
      "metadata": {
        "id": "OPJQxKjmIazD"
      }
    },
    {
      "cell_type": "markdown",
      "source": [
        "##**Tema 1 - Uso de modulos de Python**"
      ],
      "metadata": {
        "id": "UjCAE_eNItFr"
      }
    },
    {
      "cell_type": "markdown",
      "source": [
        "###**¿Qué es un módulo?**\n"
      ],
      "metadata": {
        "id": "kt2EyFc8KRGK"
      }
    },
    {
      "cell_type": "markdown",
      "source": [
        "> Un módulo permite agrupar, gestionar y utilizar lógicamente el código Python. Normalmente, un archivo .py de Python\n",
        "se convierte en un módulo. En el módulo se pueden definir funciones, clases o variables, y puede incluir un código de\n",
        "ejecución.\n",
        "\n",
        "> En pocas palabras, es un archivo de código y se divide en módulo estándar y módulo externo.\n",
        "\n",
        "* Módulo estándar: Módulos incorporados en Python (os, svs, math, random, datetime, json, csv, sqlite3)\n",
        "* Módulo externo: Módulos fabricados por una 3ra parte. (pandas, numpy, matplotlib, scipy, flask, tensorflow, keras)\n",
        "\n",
        "> Los módulos estandar se instalan al instalar Python. No es necesario memorizar lo que hay en el módulo estándar, ya\n",
        "que se puede buscar a través de un motor de busqueda o a través de la biblioteca estandar de Python en\n",
        "https://docs.python.org/3/library/.\n",
        "\n",
        "> Los módulos externos han sido creados por otras personas (como las bibliotecas de código abierto), es necesario\n",
        "instalar los modulos para poder utilizarlos en el codigo. La forma mas recomendada y segura de instalar una biblioteca\n",
        "externa es utilizar pip. Despues de Python 3.4, se incluye basicamente en el programa de instalacion binaria de Python\n",
        "y se puede utilizar fácilmente."
      ],
      "metadata": {
        "id": "JSpYxtjHKjFj"
      }
    },
    {
      "cell_type": "code",
      "source": [
        "#Ejercicio de sample\n",
        "\n",
        "import random\n",
        "\n",
        "data = ('a','s','b','c','ch','n')\n",
        "print(random.choice(data)) #Tomar un unico elemento de la lista de forma aleatoria\n",
        "\n",
        "#para muestreo aleatorio\n",
        "muestra = random.sample(data,3)\n",
        "print(muestra)"
      ],
      "metadata": {
        "id": "9yI8BSDhnKse"
      },
      "execution_count": null,
      "outputs": []
    },
    {
      "cell_type": "code",
      "source": [
        "#Practica modulo SO , datetime y demas\n",
        "\n",
        "import random\n",
        "import os\n",
        "import datetime as dt # datetime tiene el alias dt\n",
        "from time import sleep\n",
        "\n",
        "\"\"\"\n",
        "for i in range(10): #iteramos en un rango de 10\n",
        "  sleep(5) #hace una pausa de 5 seg\n",
        "  fecha_actual = dt.datetime.now() #extraemos la fecha actual\n",
        "  print(fecha_actual)\n",
        "\n",
        "#Uso del timedelta\n",
        "\n",
        "fecha = dt.datetime.now() #calculo de la fecha actual\n",
        "\n",
        "en_dos_dias = fecha + dt.timedelta(days=2) #sumamos 2 dias a la fecha actual\n",
        "print(fecha)\n",
        "print(en_dos_dias)\n",
        "\n",
        "\"\"\"\n",
        "\n",
        "#Uso del modulo OS\n",
        "\n",
        "os.mkdir(\"GT08_S\") #creamos una carpeta llamada prueba\n",
        "print(os.listdir()) #mostramos el contenido de la carpeta actual\n",
        "\n"
      ],
      "metadata": {
        "id": "3vI63XfGnvxL"
      },
      "execution_count": null,
      "outputs": []
    },
    {
      "cell_type": "code",
      "source": [
        "#Uso del modulo OS\n",
        "print(os.getcwd) #imprimimos la ruta actual / directorio / carpeta\n",
        "\n",
        "os.rmdir(\"GT08_S\") #eliminamos una carpeta llamada test2 que antes se tuvo que crear\n",
        "print(os.listdir()) #mostramos el contenido de la carpeta actual"
      ],
      "metadata": {
        "id": "XV-7HfPnqIjh"
      },
      "execution_count": null,
      "outputs": []
    },
    {
      "cell_type": "markdown",
      "source": [
        "\n",
        "\n",
        "---\n",
        "\n"
      ],
      "metadata": {
        "id": "gtFYsLOFnvBK"
      }
    },
    {
      "cell_type": "markdown",
      "source": [
        "##**Tema 2 - Panda Series**"
      ],
      "metadata": {
        "id": "0j9RzsY8TIDA"
      }
    },
    {
      "cell_type": "markdown",
      "source": [
        "###**Creación de una Serie a partir de un valor escalar**"
      ],
      "metadata": {
        "id": "Re5ROCTxBv5N"
      }
    },
    {
      "cell_type": "markdown",
      "source": [
        "Un escalar es un valor simple (un número, una cadena, un booleano, etc.), no una lista.\n",
        "Cuando se pasa un escalar a pd.Series, pandas repite ese valor tantas veces como elementos tenga el índice que especifiques.\n",
        "\n",
        "Ejemplo:"
      ],
      "metadata": {
        "id": "yISBqzN-oBMO"
      }
    },
    {
      "cell_type": "code",
      "source": [
        "import pandas as pd\n",
        "\n",
        "s = pd.Series(5, index=[0, 1, 2, 3])\n",
        "print(s)\n",
        "\n",
        "#Aquí el 5 (escalar) se repite en todas las posiciones porque el índice tiene 4 elementos."
      ],
      "metadata": {
        "id": "IKlAFXxfTWRM"
      },
      "execution_count": null,
      "outputs": []
    },
    {
      "cell_type": "markdown",
      "source": [
        "**Uso del operador * con escalares**\n",
        "\n",
        "El operador * puede intervenir en dos sentidos:\n",
        "\n",
        "a) Multiplicar una Serie por un escalar\n",
        "\n",
        "Se aplica a cada valor de la Serie:"
      ],
      "metadata": {
        "id": "exJG8wf3TZPg"
      }
    },
    {
      "cell_type": "code",
      "source": [
        "s = pd.Series([1, 2, 3])\n",
        "print(s)\n",
        "print('-'*15) #estetico\n",
        "print(s * 5)\n"
      ],
      "metadata": {
        "id": "-v_CpGMUTV_T"
      },
      "execution_count": null,
      "outputs": []
    },
    {
      "cell_type": "markdown",
      "source": [
        "b) Usar * en listas antes de crear la Serie\n",
        "\n",
        "En Python, una lista se puede repetir con *.\n",
        "Ejemplo:"
      ],
      "metadata": {
        "id": "9qJeo46STT8t"
      }
    },
    {
      "cell_type": "code",
      "source": [
        "valores = [5] * 4   # crea [5, 5, 5, 5]\n",
        "s = pd.Series(valores)\n",
        "print(s)\n",
        "\n",
        "#Esto hace lo mismo que pd.Series(5, index=[0,1,2,3]), pero usando * directamente en la lista."
      ],
      "metadata": {
        "id": "HXIJxm4NTRzp"
      },
      "execution_count": null,
      "outputs": []
    },
    {
      "cell_type": "markdown",
      "source": [
        "4. ¿Cuándo usar cada forma?\n",
        "\n",
        "pd.Series(escalar, index=...) → útil cuando quieres inicializar rápido con un mismo valor.\n",
        "\n",
        "[valor] * n → útil si quieres primero manipular la lista antes de convertirla en Serie.\n",
        "\n",
        "serie * escalar → útil para operaciones matemáticas vectorizadas (multiplicar todos los elementos)."
      ],
      "metadata": {
        "id": "26MxyXcUTMYJ"
      }
    },
    {
      "cell_type": "markdown",
      "source": [
        "\n",
        "\n",
        "---\n",
        "\n"
      ],
      "metadata": {
        "id": "Mw2rD5IZ-yTf"
      }
    },
    {
      "cell_type": "markdown",
      "source": [
        "###**Practica de Panda Series**"
      ],
      "metadata": {
        "id": "XstIgpgk-3rR"
      }
    },
    {
      "cell_type": "code",
      "source": [
        "import pandas as pd\n",
        "import matplotlib.pyplot as plt\n",
        "import openpyxl\n",
        "\n",
        "#creacion de una serie usando una lista\n",
        "serie = pd.Series([\"Anthony\",\"Joshua\",\"Hector\",\"Mariana\",\"Keitlyn\",\"Jorge\"])\n",
        "print(serie)\n",
        "\n",
        "print('--'*30)\n",
        "#crear serie usando diccionario\n",
        "diccionario = {\"Anthony\":20,\"Joshua\":21,\"Hector\":22,\"Mariana\":23,\"Keitlyn\":24,\"Jorge\":25}\n",
        "serie2 = pd.Series(diccionario)\n",
        "print(serie2)\n",
        "\n",
        "print('--'*30)\n",
        "#Crear serie con indices predefinidos\n",
        "serie3 = pd.Series([\"Anthony\",\"Joshua\",\"Hector\",\"Mariana\",\"Keitlyn\",\"Jorge\"], index = [\"a\",3,\"c\",\"d\",\"e\",\"f\"])\n",
        "print(serie3)"
      ],
      "metadata": {
        "id": "yOPhA-NN8hRV"
      },
      "execution_count": null,
      "outputs": []
    },
    {
      "cell_type": "code",
      "source": [
        "#acceder a un valor de la serie\n",
        "\n",
        "print(serie[3])\n",
        "print(serie2[\"Hector\"])\n",
        "print(serie3[\"c\"])"
      ],
      "metadata": {
        "id": "r9I5wyQn9r62"
      },
      "execution_count": null,
      "outputs": []
    },
    {
      "cell_type": "code",
      "source": [
        "plt.plot(serie)\n",
        "plt.show()"
      ],
      "metadata": {
        "id": "W25dgnaD-J-6"
      },
      "execution_count": null,
      "outputs": []
    },
    {
      "cell_type": "code",
      "source": [
        "plt.plot(serie2)\n",
        "plt.show()"
      ],
      "metadata": {
        "id": "PHWHu13Y-DrS"
      },
      "execution_count": null,
      "outputs": []
    },
    {
      "cell_type": "code",
      "source": [
        "plt.plot(serie3)\n",
        "plt.show()"
      ],
      "metadata": {
        "id": "FXUpmFUh-YCo"
      },
      "execution_count": null,
      "outputs": []
    },
    {
      "cell_type": "code",
      "source": [
        "print(serie.index) #ver los indices de la serie\n",
        "\n",
        "print(serie.values) #ver los valores de la serie"
      ],
      "metadata": {
        "id": "4QmUC_bh-eZc"
      },
      "execution_count": null,
      "outputs": []
    }
  ]
}