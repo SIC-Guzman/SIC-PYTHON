{
  "nbformat": 4,
  "nbformat_minor": 0,
  "metadata": {
    "colab": {
      "provenance": []
    },
    "kernelspec": {
      "name": "python3",
      "display_name": "Python 3"
    },
    "language_info": {
      "name": "python"
    }
  },
  "cells": [
    {
      "cell_type": "markdown",
      "source": [
        "##**LAMBDA**"
      ],
      "metadata": {
        "id": "4Jcr-uNvpzee"
      }
    },
    {
      "cell_type": "code",
      "execution_count": 6,
      "metadata": {
        "colab": {
          "base_uri": "https://localhost:8080/"
        },
        "id": "l8m7MhZPiub5",
        "outputId": "2913a23f-e464-40dd-ee63-c830d8083e51"
      },
      "outputs": [
        {
          "output_type": "stream",
          "name": "stdout",
          "text": [
            "[{'id': 1, 'nombre': 'Jose', 'estado': True}, {'id': 3, 'nombre': 'Marta', 'estado': True}]\n",
            "++++++++++++++++++++++++++++++++++++++++++++++++++++++++++++++++++++++++++++++++\n",
            "[{'id': 111, 'nombre': 'Teclado', 'Stock': 1}, {'id': 222, 'nombre': 'PC', 'Stock': 3}, {'id': 222, 'nombre': 'Routers', 'Stock': 7}]\n"
          ]
        }
      ],
      "source": [
        "# Manejar varias listas\n",
        "\n",
        "def obtener_registros(tabla, funcion_a_filtrar):\n",
        "  return list(filter(funcion_a_filtrar, tabla)) #un filtro necesita que le envios una funcion y un elemento iterable (litsas, tuplas, ,etc)\n",
        "\n",
        "\n",
        "usuarios = [\n",
        "    {\"id\": 1 , \"nombre\": \"Jose\", \"estado\": True},\n",
        "    {\"id\": 2 , \"nombre\": \"Ana\", \"estado\": False},\n",
        "    {\"id\": 3 , \"nombre\": \"Marta\", \"estado\": True},\n",
        "]\n",
        "\n",
        "productos = [\n",
        "    {\"id\": 111 , \"nombre\": \"Teclado\", \"Stock\": 1},\n",
        "    {\"id\": 222 , \"nombre\": \"PC\", \"Stock\": 3},\n",
        "    {\"id\": 222 , \"nombre\": \"Routers\", \"Stock\": 7},\n",
        "    {\"id\": 333 , \"nombre\": \"Mouse\", \"Stock\": 0},\n",
        "    {\"id\": 333 , \"nombre\": \"Nintendo\", \"Stock\": 0},\n",
        "]\n",
        "\n",
        "\n",
        "#Filtro con Lambda\n",
        "estado_usuarios = obtener_registros(usuarios, lambda usuario: usuario[\"estado\"] == True)\n",
        "print(estado_usuarios) #Impresion del estado de los usuarios actuales\n",
        "\n",
        "print('+'*80)\n",
        "\n",
        "productos_stock = obtener_registros(productos, lambda p: p [\"Stock\"] > 0)\n",
        "print(productos_stock) #impresion de productos sin stock"
      ]
    },
    {
      "cell_type": "markdown",
      "source": [
        "##**ITERADORES**"
      ],
      "metadata": {
        "id": "wn1CPpGbuLko"
      }
    },
    {
      "cell_type": "markdown",
      "source": [
        "* iter() : Convertias un iterable en un iterador\n",
        "* yield : genera un iterador"
      ],
      "metadata": {
        "id": "I--8p0UduOiG"
      }
    },
    {
      "cell_type": "code",
      "source": [
        "def leer_log(archivo):\n",
        "    with open(archivo, 'r') as archivo:\n",
        "        for linea in iter(archivo):\n",
        "            if 'ERROR' in linea: #Funciona en base a la condicion que ustedes definan\n",
        "                print('Se encontro un error en', linea.strip())\n",
        "\n",
        "\n",
        "leer_log('logs.txt')\n",
        "\n",
        "#Psdt: Creen su archivo de logs"
      ],
      "metadata": {
        "id": "xKbGvTdPuocy"
      },
      "execution_count": null,
      "outputs": []
    },
    {
      "cell_type": "code",
      "source": [
        "2025-09-06 07:00:12 INFO: Servidor iniciado correctamente.\n",
        "2025-09-06 07:01:45 INFO: Usuario 'ana' inició sesión desde 192.168.1.10\n",
        "2025-09-06 07:02:01 WARNING: Uso de CPU al 85%\n",
        "2025-09-06 07:03:12 ERROR: Conexión a base de datos perdida.\n",
        "2025-09-06 07:04:33 INFO: Usuario 'carlos' cerró sesión.\n",
        "2025-09-06 07:05:55 INFO: Servicio de pagos iniciado.\n",
        "2025-09-06 07:07:21 ERROR: Intento de acceso no autorizado desde 10.0.0.15\n",
        "2025-09-06 07:08:10 INFO: Pedido #54321 procesado correctamente.\n",
        "2025-09-06 07:09:45 WARNING: Memoria disponible < 10%\n",
        "2025-09-06 07:10:55 ERROR: Fallo en el servicio de correo.\n",
        "2025-09-06 07:11:22 INFO: Usuario 'marta' inició sesión desde 192.168.1.11\n",
        "2025-09-06 07:12:30 INFO: Sincronización de inventario completada.\n",
        "2025-09-06 07:14:02 ERROR: Timeout al conectar con API externa.\n",
        "2025-09-06 07:15:15 INFO: Copia de seguridad iniciada.\n",
        "2025-09-06 07:16:50 ERROR: Permisos insuficientes para escribir en /var/log/app/\n",
        "2025-09-06 07:18:22 INFO: Usuario 'luis' cambió contraseña.\n",
        "2025-09-06 07:19:34 INFO: Pedido #54322 procesado correctamente.\n",
        "2025-09-06 07:21:11 WARNING: Latencia de red alta (250ms).\n",
        "2025-09-06 07:22:59 ERROR: Servidor DNS no responde.\n",
        "2025-09-06 07:25:42 INFO: Servicio de facturación completado.\n",
        "2025-09-06 07:27:31 INFO: Usuario 'ana' cerró sesión.\n",
        "2025-09-06 07:28:10 ERROR: Archivo de configuración corrupto.\n",
        "2025-09-06 07:29:45 INFO: Pedido #54323 procesado correctamente.\n",
        "2025-09-06 07:31:00 ERROR: Intento de inyección SQL detectado.\n",
        "2025-09-06 07:32:15 INFO: Servicio de notificaciones reiniciado.\n",
        "2025-09-06 07:33:48 WARNING: Disco al 95% de capacidad.\n",
        "2025-09-06 07:34:59 ERROR: Fallo en autenticacion LDAP.\n",
        "2025-09-06 07:36:20 INFO: Usuario 'sofia' inició sesión desde 172.16.0.5\n",
        "2025-09-06 07:38:11 INFO: Pedido #54324 procesado correctamente.\n",
        "2025-09-06 07:39:25 ERROR: Pérdida de conexión con servidor secundario."
      ],
      "metadata": {
        "id": "aFGZwXTWz_0f"
      },
      "execution_count": null,
      "outputs": []
    },
    {
      "cell_type": "markdown",
      "source": [
        "##**CLOUSURE**"
      ],
      "metadata": {
        "id": "tnhVO_FA0FP5"
      }
    },
    {
      "cell_type": "markdown",
      "source": [
        "* Funcion Anidada\n",
        "* Tiene capcidad para recordar valores, casi como si tuviese memoria\n",
        "* Proteger funciones internas"
      ],
      "metadata": {
        "id": "DIKTDH-L0HUF"
      }
    },
    {
      "cell_type": "code",
      "source": [
        "def establecer_descuento(porcentaje): #funcion externa\n",
        "  def aplicar_descuento(precio): #funcion interna\n",
        "    return precio - (precio * porcentaje) #Establecemos la operacion\n",
        "  return aplicar_descuento #Devolvemos la funcion\n",
        "\n",
        "descuento_10 = establecer_descuento(0.10)\n",
        "descuento_20 = establecer_descuento(0.20)\n",
        "descuento_30 = establecer_descuento(0.30)\n",
        "\n",
        "print(\"Precio final con descuento (30%):\", descuento_30(500))\n",
        "print('-'*5)\n",
        "print(\"Precio final con descuento (20%):\", descuento_20(500))\n",
        "print('-'*5)\n",
        "print(\"Precio final con descuento (10%):\", descuento_10(500))"
      ],
      "metadata": {
        "colab": {
          "base_uri": "https://localhost:8080/"
        },
        "id": "j22ijxmU0m-o",
        "outputId": "1b402d76-a660-4eae-ec53-d56341ab6c7e"
      },
      "execution_count": 7,
      "outputs": [
        {
          "output_type": "stream",
          "name": "stdout",
          "text": [
            "Precio final con descuento (30%): 350.0\n",
            "-----\n",
            "Precio final con descuento (20%): 400.0\n",
            "-----\n",
            "Precio final con descuento (10%): 450.0\n"
          ]
        }
      ]
    },
    {
      "cell_type": "code",
      "source": [
        "def crear_consulta(tabla): #Creamos la funcion externa\n",
        "  def ver_datos(): #Creamos una funcion interna\n",
        "    return f\"SELECT * FROM {tabla};\"\n",
        "  return ver_datos #devolvemos nuestra funcion interna\n",
        "\n",
        "consultar_usuarios = crear_consulta(\"usuarios\")\n",
        "consultar_productos = crear_consulta(\"productos\")\n",
        "\n",
        "print(consultar_usuarios())\n",
        "print(consultar_productos())\n"
      ],
      "metadata": {
        "colab": {
          "base_uri": "https://localhost:8080/"
        },
        "id": "NMl7r-pq2b9D",
        "outputId": "9073538e-ab29-4d44-be5a-b8a9999fe8bf"
      },
      "execution_count": 8,
      "outputs": [
        {
          "output_type": "stream",
          "name": "stdout",
          "text": [
            "SELECT * FROM usuarios;\n",
            "SELECT * FROM productos;\n"
          ]
        }
      ]
    }
  ]
}